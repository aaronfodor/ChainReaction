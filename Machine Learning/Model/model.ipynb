{
  "nbformat": 4,
  "nbformat_minor": 0,
  "metadata": {
    "colab": {
      "name": "project.ipynb",
      "provenance": [],
      "collapsed_sections": [
        "zbUtsVaKAX9f",
        "eKUnVNiQPLH6",
        "hUCPop3TBHNH",
        "ExrCHdMkAzGg",
        "ozasubUcBSiE",
        "3NEnt5ccL8sF",
        "iPApfHkSB-Mr",
        "P9MH8HZ18JZ1",
        "fcYFIq9jHvwm",
        "2f_DkfUgKam_",
        "daKyDTlIOFLI",
        "h6ULvbUNC3sS",
        "689mDeV-DAZA",
        "bWOgypbHDKZN",
        "qB763Y7ZUb_8"
      ],
      "machine_shape": "hm"
    },
    "kernelspec": {
      "name": "python3",
      "display_name": "Python 3"
    },
    "language_info": {
      "name": "python"
    },
    "accelerator": "GPU"
  },
  "cells": [
    {
      "cell_type": "code",
      "source": [
        "!pip install --upgrade keras-tuner"
      ],
      "metadata": {
        "id": "iSf75SYY3WOT"
      },
      "execution_count": null,
      "outputs": []
    },
    {
      "cell_type": "code",
      "metadata": {
        "id": "QJdtqUDUo6Iz"
      },
      "source": [
        "import math\n",
        "import gc\n",
        "import os\n",
        "import tensorflow as tf\n",
        "import pandas as pd\n",
        "import numpy as np\n",
        "import matplotlib.pyplot as plt\n",
        "from sklearn import preprocessing\n",
        "from sklearn import utils\n",
        "from scipy import stats\n",
        "from tensorflow.keras import layers\n",
        "import keras_tuner as kt"
      ],
      "execution_count": 95,
      "outputs": []
    },
    {
      "cell_type": "markdown",
      "metadata": {
        "id": "nlxlUsexsIug"
      },
      "source": [
        "# Data preparation"
      ]
    },
    {
      "cell_type": "markdown",
      "metadata": {
        "id": "zbUtsVaKAX9f"
      },
      "source": [
        "## Exploration"
      ]
    },
    {
      "cell_type": "code",
      "metadata": {
        "id": "cQjcPrj6p6V5"
      },
      "source": [
        "data = pd.read_csv('/content/data.txt', sep='\\t', lineterminator='\\r', header=None)"
      ],
      "execution_count": 7,
      "outputs": []
    },
    {
      "cell_type": "code",
      "metadata": {
        "colab": {
          "base_uri": "https://localhost:8080/",
          "height": 0
        },
        "id": "W8PiO7gjqIAX",
        "outputId": "2011328d-35a8-443b-f9d0-7cb8c5bcce13"
      },
      "source": [
        "data.head()"
      ],
      "execution_count": 8,
      "outputs": [
        {
          "output_type": "execute_result",
          "data": {
            "text/html": [
              "\n",
              "  <div id=\"df-ac0a1433-888f-455c-b00f-3e01b1a2ee6f\">\n",
              "    <div class=\"colab-df-container\">\n",
              "      <div>\n",
              "<style scoped>\n",
              "    .dataframe tbody tr th:only-of-type {\n",
              "        vertical-align: middle;\n",
              "    }\n",
              "\n",
              "    .dataframe tbody tr th {\n",
              "        vertical-align: top;\n",
              "    }\n",
              "\n",
              "    .dataframe thead th {\n",
              "        text-align: right;\n",
              "    }\n",
              "</style>\n",
              "<table border=\"1\" class=\"dataframe\">\n",
              "  <thead>\n",
              "    <tr style=\"text-align: right;\">\n",
              "      <th></th>\n",
              "      <th>0</th>\n",
              "      <th>1</th>\n",
              "      <th>2</th>\n",
              "      <th>3</th>\n",
              "      <th>4</th>\n",
              "      <th>5</th>\n",
              "      <th>6</th>\n",
              "      <th>7</th>\n",
              "      <th>8</th>\n",
              "      <th>9</th>\n",
              "      <th>10</th>\n",
              "      <th>11</th>\n",
              "      <th>12</th>\n",
              "      <th>13</th>\n",
              "      <th>14</th>\n",
              "      <th>15</th>\n",
              "      <th>16</th>\n",
              "      <th>17</th>\n",
              "      <th>18</th>\n",
              "      <th>19</th>\n",
              "    </tr>\n",
              "  </thead>\n",
              "  <tbody>\n",
              "    <tr>\n",
              "      <th>0</th>\n",
              "      <td>0.25</td>\n",
              "      <td>0.25</td>\n",
              "      <td>0.25</td>\n",
              "      <td>0.25</td>\n",
              "      <td>0.25</td>\n",
              "      <td>0.25</td>\n",
              "      <td>0.25</td>\n",
              "      <td>0.25</td>\n",
              "      <td>0.25</td>\n",
              "      <td>&gt;</td>\n",
              "      <td>0</td>\n",
              "      <td>0</td>\n",
              "      <td>0</td>\n",
              "      <td>0</td>\n",
              "      <td>1</td>\n",
              "      <td>0</td>\n",
              "      <td>0</td>\n",
              "      <td>0</td>\n",
              "      <td>0</td>\n",
              "      <td>NaN</td>\n",
              "    </tr>\n",
              "    <tr>\n",
              "      <th>1</th>\n",
              "      <td>0.25</td>\n",
              "      <td>0.25</td>\n",
              "      <td>0.25</td>\n",
              "      <td>0.25</td>\n",
              "      <td>0.50</td>\n",
              "      <td>0.25</td>\n",
              "      <td>0.25</td>\n",
              "      <td>0.25</td>\n",
              "      <td>0.25</td>\n",
              "      <td>&gt;</td>\n",
              "      <td>0</td>\n",
              "      <td>0</td>\n",
              "      <td>0</td>\n",
              "      <td>0</td>\n",
              "      <td>1</td>\n",
              "      <td>0</td>\n",
              "      <td>0</td>\n",
              "      <td>0</td>\n",
              "      <td>0</td>\n",
              "      <td>NaN</td>\n",
              "    </tr>\n",
              "    <tr>\n",
              "      <th>2</th>\n",
              "      <td>0.25</td>\n",
              "      <td>0.25</td>\n",
              "      <td>0.25</td>\n",
              "      <td>0.25</td>\n",
              "      <td>0.75</td>\n",
              "      <td>0.25</td>\n",
              "      <td>0.25</td>\n",
              "      <td>0.25</td>\n",
              "      <td>0.25</td>\n",
              "      <td>&gt;</td>\n",
              "      <td>0</td>\n",
              "      <td>0</td>\n",
              "      <td>0</td>\n",
              "      <td>0</td>\n",
              "      <td>1</td>\n",
              "      <td>0</td>\n",
              "      <td>0</td>\n",
              "      <td>0</td>\n",
              "      <td>0</td>\n",
              "      <td>NaN</td>\n",
              "    </tr>\n",
              "    <tr>\n",
              "      <th>3</th>\n",
              "      <td>0.25</td>\n",
              "      <td>0.25</td>\n",
              "      <td>0.25</td>\n",
              "      <td>0.25</td>\n",
              "      <td>1.00</td>\n",
              "      <td>0.50</td>\n",
              "      <td>0.25</td>\n",
              "      <td>0.25</td>\n",
              "      <td>0.25</td>\n",
              "      <td>&gt;</td>\n",
              "      <td>0</td>\n",
              "      <td>0</td>\n",
              "      <td>0</td>\n",
              "      <td>0</td>\n",
              "      <td>0</td>\n",
              "      <td>1</td>\n",
              "      <td>0</td>\n",
              "      <td>0</td>\n",
              "      <td>0</td>\n",
              "      <td>NaN</td>\n",
              "    </tr>\n",
              "    <tr>\n",
              "      <th>4</th>\n",
              "      <td>0.25</td>\n",
              "      <td>0.25</td>\n",
              "      <td>0.25</td>\n",
              "      <td>0.25</td>\n",
              "      <td>1.00</td>\n",
              "      <td>0.75</td>\n",
              "      <td>0.25</td>\n",
              "      <td>0.25</td>\n",
              "      <td>0.25</td>\n",
              "      <td>&gt;</td>\n",
              "      <td>0</td>\n",
              "      <td>0</td>\n",
              "      <td>0</td>\n",
              "      <td>0</td>\n",
              "      <td>0</td>\n",
              "      <td>1</td>\n",
              "      <td>0</td>\n",
              "      <td>0</td>\n",
              "      <td>0</td>\n",
              "      <td>NaN</td>\n",
              "    </tr>\n",
              "  </tbody>\n",
              "</table>\n",
              "</div>\n",
              "      <button class=\"colab-df-convert\" onclick=\"convertToInteractive('df-ac0a1433-888f-455c-b00f-3e01b1a2ee6f')\"\n",
              "              title=\"Convert this dataframe to an interactive table.\"\n",
              "              style=\"display:none;\">\n",
              "        \n",
              "  <svg xmlns=\"http://www.w3.org/2000/svg\" height=\"24px\"viewBox=\"0 0 24 24\"\n",
              "       width=\"24px\">\n",
              "    <path d=\"M0 0h24v24H0V0z\" fill=\"none\"/>\n",
              "    <path d=\"M18.56 5.44l.94 2.06.94-2.06 2.06-.94-2.06-.94-.94-2.06-.94 2.06-2.06.94zm-11 1L8.5 8.5l.94-2.06 2.06-.94-2.06-.94L8.5 2.5l-.94 2.06-2.06.94zm10 10l.94 2.06.94-2.06 2.06-.94-2.06-.94-.94-2.06-.94 2.06-2.06.94z\"/><path d=\"M17.41 7.96l-1.37-1.37c-.4-.4-.92-.59-1.43-.59-.52 0-1.04.2-1.43.59L10.3 9.45l-7.72 7.72c-.78.78-.78 2.05 0 2.83L4 21.41c.39.39.9.59 1.41.59.51 0 1.02-.2 1.41-.59l7.78-7.78 2.81-2.81c.8-.78.8-2.07 0-2.86zM5.41 20L4 18.59l7.72-7.72 1.47 1.35L5.41 20z\"/>\n",
              "  </svg>\n",
              "      </button>\n",
              "      \n",
              "  <style>\n",
              "    .colab-df-container {\n",
              "      display:flex;\n",
              "      flex-wrap:wrap;\n",
              "      gap: 12px;\n",
              "    }\n",
              "\n",
              "    .colab-df-convert {\n",
              "      background-color: #E8F0FE;\n",
              "      border: none;\n",
              "      border-radius: 50%;\n",
              "      cursor: pointer;\n",
              "      display: none;\n",
              "      fill: #1967D2;\n",
              "      height: 32px;\n",
              "      padding: 0 0 0 0;\n",
              "      width: 32px;\n",
              "    }\n",
              "\n",
              "    .colab-df-convert:hover {\n",
              "      background-color: #E2EBFA;\n",
              "      box-shadow: 0px 1px 2px rgba(60, 64, 67, 0.3), 0px 1px 3px 1px rgba(60, 64, 67, 0.15);\n",
              "      fill: #174EA6;\n",
              "    }\n",
              "\n",
              "    [theme=dark] .colab-df-convert {\n",
              "      background-color: #3B4455;\n",
              "      fill: #D2E3FC;\n",
              "    }\n",
              "\n",
              "    [theme=dark] .colab-df-convert:hover {\n",
              "      background-color: #434B5C;\n",
              "      box-shadow: 0px 1px 3px 1px rgba(0, 0, 0, 0.15);\n",
              "      filter: drop-shadow(0px 1px 2px rgba(0, 0, 0, 0.3));\n",
              "      fill: #FFFFFF;\n",
              "    }\n",
              "  </style>\n",
              "\n",
              "      <script>\n",
              "        const buttonEl =\n",
              "          document.querySelector('#df-ac0a1433-888f-455c-b00f-3e01b1a2ee6f button.colab-df-convert');\n",
              "        buttonEl.style.display =\n",
              "          google.colab.kernel.accessAllowed ? 'block' : 'none';\n",
              "\n",
              "        async function convertToInteractive(key) {\n",
              "          const element = document.querySelector('#df-ac0a1433-888f-455c-b00f-3e01b1a2ee6f');\n",
              "          const dataTable =\n",
              "            await google.colab.kernel.invokeFunction('convertToInteractive',\n",
              "                                                     [key], {});\n",
              "          if (!dataTable) return;\n",
              "\n",
              "          const docLinkHtml = 'Like what you see? Visit the ' +\n",
              "            '<a target=\"_blank\" href=https://colab.research.google.com/notebooks/data_table.ipynb>data table notebook</a>'\n",
              "            + ' to learn more about interactive tables.';\n",
              "          element.innerHTML = '';\n",
              "          dataTable['output_type'] = 'display_data';\n",
              "          await google.colab.output.renderOutput(dataTable, element);\n",
              "          const docLink = document.createElement('div');\n",
              "          docLink.innerHTML = docLinkHtml;\n",
              "          element.appendChild(docLink);\n",
              "        }\n",
              "      </script>\n",
              "    </div>\n",
              "  </div>\n",
              "  "
            ],
            "text/plain": [
              "     0     1     2     3     4     5     6   ...  13  14 15  16  17  18  19\n",
              "0  0.25  0.25  0.25  0.25  0.25  0.25  0.25  ...   0   1  0   0   0   0 NaN\n",
              "1  0.25  0.25  0.25  0.25  0.50  0.25  0.25  ...   0   1  0   0   0   0 NaN\n",
              "2  0.25  0.25  0.25  0.25  0.75  0.25  0.25  ...   0   1  0   0   0   0 NaN\n",
              "3  0.25  0.25  0.25  0.25  1.00  0.50  0.25  ...   0   0  1   0   0   0 NaN\n",
              "4  0.25  0.25  0.25  0.25  1.00  0.75  0.25  ...   0   0  1   0   0   0 NaN\n",
              "\n",
              "[5 rows x 20 columns]"
            ]
          },
          "metadata": {},
          "execution_count": 8
        }
      ]
    },
    {
      "cell_type": "markdown",
      "source": [
        "## Transform"
      ],
      "metadata": {
        "id": "mhBZSXS8sNH1"
      }
    },
    {
      "cell_type": "code",
      "source": [
        "# Drop last column of a dataframe\n",
        "data = data.iloc[: , :-1]\n",
        "data = data.set_axis(['X1', 'X2', 'X3', 'X4', 'X5', 'X6', 'X7', 'X8', 'X9', 'sep', 'Y1', 'Y2', 'Y3', 'Y4', 'Y5', 'Y6', 'Y7', 'Y8', 'Y9'], axis=1, inplace=False)\n",
        "data = data.drop(['sep'], axis=1)"
      ],
      "metadata": {
        "id": "o6G-duU_qWyQ"
      },
      "execution_count": 9,
      "outputs": []
    },
    {
      "cell_type": "code",
      "metadata": {
        "colab": {
          "base_uri": "https://localhost:8080/"
        },
        "id": "39GLwtRR0x7K",
        "outputId": "8171e223-aff1-473b-9eea-10b5f6377ff3"
      },
      "source": [
        "print(list(data.columns.values))"
      ],
      "execution_count": 10,
      "outputs": [
        {
          "output_type": "stream",
          "name": "stdout",
          "text": [
            "['X1', 'X2', 'X3', 'X4', 'X5', 'X6', 'X7', 'X8', 'X9', 'Y1', 'Y2', 'Y3', 'Y4', 'Y5', 'Y6', 'Y7', 'Y8', 'Y9']\n"
          ]
        }
      ]
    },
    {
      "cell_type": "markdown",
      "metadata": {
        "id": "5vPd3Kd9YRHe"
      },
      "source": [
        "> Now that every attributes are supposed to be numeric, transform them to numeric columns and drop values which are non-numeric."
      ]
    },
    {
      "cell_type": "code",
      "metadata": {
        "colab": {
          "base_uri": "https://localhost:8080/"
        },
        "id": "I8l_tFMzYQXz",
        "outputId": "65c9159f-c840-4085-81fa-c7ff8bf0dfcc"
      },
      "source": [
        "print(len(data))\n",
        "\n",
        "data = data.apply(pd.to_numeric, errors=\"coerce\")\n",
        "data = data.dropna()\n",
        "\n",
        "print(len(data))"
      ],
      "execution_count": 11,
      "outputs": [
        {
          "output_type": "stream",
          "name": "stdout",
          "text": [
            "442\n",
            "442\n"
          ]
        }
      ]
    },
    {
      "cell_type": "markdown",
      "metadata": {
        "id": "3NEnt5ccL8sF"
      },
      "source": [
        "## Data distributions"
      ]
    },
    {
      "cell_type": "code",
      "metadata": {
        "colab": {
          "base_uri": "https://localhost:8080/",
          "height": 0
        },
        "id": "Ahwu99M9qJp3",
        "outputId": "a4a2a64b-05d7-4007-8a11-11800a288e9f"
      },
      "source": [
        "data.describe()"
      ],
      "execution_count": 12,
      "outputs": [
        {
          "output_type": "execute_result",
          "data": {
            "text/html": [
              "\n",
              "  <div id=\"df-6a853945-63f4-4a3c-a99e-d0d1ab007a66\">\n",
              "    <div class=\"colab-df-container\">\n",
              "      <div>\n",
              "<style scoped>\n",
              "    .dataframe tbody tr th:only-of-type {\n",
              "        vertical-align: middle;\n",
              "    }\n",
              "\n",
              "    .dataframe tbody tr th {\n",
              "        vertical-align: top;\n",
              "    }\n",
              "\n",
              "    .dataframe thead th {\n",
              "        text-align: right;\n",
              "    }\n",
              "</style>\n",
              "<table border=\"1\" class=\"dataframe\">\n",
              "  <thead>\n",
              "    <tr style=\"text-align: right;\">\n",
              "      <th></th>\n",
              "      <th>X1</th>\n",
              "      <th>X2</th>\n",
              "      <th>X3</th>\n",
              "      <th>X4</th>\n",
              "      <th>X5</th>\n",
              "      <th>X6</th>\n",
              "      <th>X7</th>\n",
              "      <th>X8</th>\n",
              "      <th>X9</th>\n",
              "      <th>Y1</th>\n",
              "      <th>Y2</th>\n",
              "      <th>Y3</th>\n",
              "      <th>Y4</th>\n",
              "      <th>Y5</th>\n",
              "      <th>Y6</th>\n",
              "      <th>Y7</th>\n",
              "      <th>Y8</th>\n",
              "      <th>Y9</th>\n",
              "    </tr>\n",
              "  </thead>\n",
              "  <tbody>\n",
              "    <tr>\n",
              "      <th>count</th>\n",
              "      <td>442.000000</td>\n",
              "      <td>442.000000</td>\n",
              "      <td>442.000000</td>\n",
              "      <td>442.000000</td>\n",
              "      <td>442.000000</td>\n",
              "      <td>442.000000</td>\n",
              "      <td>442.000000</td>\n",
              "      <td>442.000000</td>\n",
              "      <td>442.000000</td>\n",
              "      <td>442.000000</td>\n",
              "      <td>442.000000</td>\n",
              "      <td>442.000000</td>\n",
              "      <td>442.000000</td>\n",
              "      <td>442.000000</td>\n",
              "      <td>442.000000</td>\n",
              "      <td>442.000000</td>\n",
              "      <td>442.000000</td>\n",
              "      <td>442.000000</td>\n",
              "    </tr>\n",
              "    <tr>\n",
              "      <th>mean</th>\n",
              "      <td>-0.053733</td>\n",
              "      <td>0.005090</td>\n",
              "      <td>0.058824</td>\n",
              "      <td>-0.011312</td>\n",
              "      <td>-0.148190</td>\n",
              "      <td>-0.013575</td>\n",
              "      <td>0.049208</td>\n",
              "      <td>-0.019796</td>\n",
              "      <td>-0.061086</td>\n",
              "      <td>0.097285</td>\n",
              "      <td>0.126697</td>\n",
              "      <td>0.106335</td>\n",
              "      <td>0.119910</td>\n",
              "      <td>0.083710</td>\n",
              "      <td>0.119910</td>\n",
              "      <td>0.113122</td>\n",
              "      <td>0.128959</td>\n",
              "      <td>0.104072</td>\n",
              "    </tr>\n",
              "    <tr>\n",
              "      <th>std</th>\n",
              "      <td>0.687657</td>\n",
              "      <td>0.621882</td>\n",
              "      <td>0.708861</td>\n",
              "      <td>0.605752</td>\n",
              "      <td>0.701139</td>\n",
              "      <td>0.624143</td>\n",
              "      <td>0.679915</td>\n",
              "      <td>0.611009</td>\n",
              "      <td>0.697380</td>\n",
              "      <td>0.296681</td>\n",
              "      <td>0.333010</td>\n",
              "      <td>0.308615</td>\n",
              "      <td>0.325224</td>\n",
              "      <td>0.277267</td>\n",
              "      <td>0.325224</td>\n",
              "      <td>0.317101</td>\n",
              "      <td>0.335535</td>\n",
              "      <td>0.305700</td>\n",
              "    </tr>\n",
              "    <tr>\n",
              "      <th>min</th>\n",
              "      <td>-1.000000</td>\n",
              "      <td>-1.000000</td>\n",
              "      <td>-1.000000</td>\n",
              "      <td>-1.000000</td>\n",
              "      <td>-1.000000</td>\n",
              "      <td>-1.000000</td>\n",
              "      <td>-1.000000</td>\n",
              "      <td>-1.000000</td>\n",
              "      <td>-1.000000</td>\n",
              "      <td>0.000000</td>\n",
              "      <td>0.000000</td>\n",
              "      <td>0.000000</td>\n",
              "      <td>0.000000</td>\n",
              "      <td>0.000000</td>\n",
              "      <td>0.000000</td>\n",
              "      <td>0.000000</td>\n",
              "      <td>0.000000</td>\n",
              "      <td>0.000000</td>\n",
              "    </tr>\n",
              "    <tr>\n",
              "      <th>25%</th>\n",
              "      <td>-0.750000</td>\n",
              "      <td>-0.500000</td>\n",
              "      <td>-0.500000</td>\n",
              "      <td>-0.500000</td>\n",
              "      <td>-1.000000</td>\n",
              "      <td>-0.500000</td>\n",
              "      <td>-0.500000</td>\n",
              "      <td>-0.500000</td>\n",
              "      <td>-0.750000</td>\n",
              "      <td>0.000000</td>\n",
              "      <td>0.000000</td>\n",
              "      <td>0.000000</td>\n",
              "      <td>0.000000</td>\n",
              "      <td>0.000000</td>\n",
              "      <td>0.000000</td>\n",
              "      <td>0.000000</td>\n",
              "      <td>0.000000</td>\n",
              "      <td>0.000000</td>\n",
              "    </tr>\n",
              "    <tr>\n",
              "      <th>50%</th>\n",
              "      <td>0.250000</td>\n",
              "      <td>0.250000</td>\n",
              "      <td>0.250000</td>\n",
              "      <td>0.250000</td>\n",
              "      <td>0.250000</td>\n",
              "      <td>0.250000</td>\n",
              "      <td>0.250000</td>\n",
              "      <td>0.250000</td>\n",
              "      <td>0.250000</td>\n",
              "      <td>0.000000</td>\n",
              "      <td>0.000000</td>\n",
              "      <td>0.000000</td>\n",
              "      <td>0.000000</td>\n",
              "      <td>0.000000</td>\n",
              "      <td>0.000000</td>\n",
              "      <td>0.000000</td>\n",
              "      <td>0.000000</td>\n",
              "      <td>0.000000</td>\n",
              "    </tr>\n",
              "    <tr>\n",
              "      <th>75%</th>\n",
              "      <td>0.250000</td>\n",
              "      <td>0.250000</td>\n",
              "      <td>0.750000</td>\n",
              "      <td>0.250000</td>\n",
              "      <td>0.250000</td>\n",
              "      <td>0.250000</td>\n",
              "      <td>0.500000</td>\n",
              "      <td>0.250000</td>\n",
              "      <td>0.250000</td>\n",
              "      <td>0.000000</td>\n",
              "      <td>0.000000</td>\n",
              "      <td>0.000000</td>\n",
              "      <td>0.000000</td>\n",
              "      <td>0.000000</td>\n",
              "      <td>0.000000</td>\n",
              "      <td>0.000000</td>\n",
              "      <td>0.000000</td>\n",
              "      <td>0.000000</td>\n",
              "    </tr>\n",
              "    <tr>\n",
              "      <th>max</th>\n",
              "      <td>1.000000</td>\n",
              "      <td>1.000000</td>\n",
              "      <td>1.000000</td>\n",
              "      <td>1.000000</td>\n",
              "      <td>1.000000</td>\n",
              "      <td>1.000000</td>\n",
              "      <td>1.000000</td>\n",
              "      <td>1.000000</td>\n",
              "      <td>1.000000</td>\n",
              "      <td>1.000000</td>\n",
              "      <td>1.000000</td>\n",
              "      <td>1.000000</td>\n",
              "      <td>1.000000</td>\n",
              "      <td>1.000000</td>\n",
              "      <td>1.000000</td>\n",
              "      <td>1.000000</td>\n",
              "      <td>1.000000</td>\n",
              "      <td>1.000000</td>\n",
              "    </tr>\n",
              "  </tbody>\n",
              "</table>\n",
              "</div>\n",
              "      <button class=\"colab-df-convert\" onclick=\"convertToInteractive('df-6a853945-63f4-4a3c-a99e-d0d1ab007a66')\"\n",
              "              title=\"Convert this dataframe to an interactive table.\"\n",
              "              style=\"display:none;\">\n",
              "        \n",
              "  <svg xmlns=\"http://www.w3.org/2000/svg\" height=\"24px\"viewBox=\"0 0 24 24\"\n",
              "       width=\"24px\">\n",
              "    <path d=\"M0 0h24v24H0V0z\" fill=\"none\"/>\n",
              "    <path d=\"M18.56 5.44l.94 2.06.94-2.06 2.06-.94-2.06-.94-.94-2.06-.94 2.06-2.06.94zm-11 1L8.5 8.5l.94-2.06 2.06-.94-2.06-.94L8.5 2.5l-.94 2.06-2.06.94zm10 10l.94 2.06.94-2.06 2.06-.94-2.06-.94-.94-2.06-.94 2.06-2.06.94z\"/><path d=\"M17.41 7.96l-1.37-1.37c-.4-.4-.92-.59-1.43-.59-.52 0-1.04.2-1.43.59L10.3 9.45l-7.72 7.72c-.78.78-.78 2.05 0 2.83L4 21.41c.39.39.9.59 1.41.59.51 0 1.02-.2 1.41-.59l7.78-7.78 2.81-2.81c.8-.78.8-2.07 0-2.86zM5.41 20L4 18.59l7.72-7.72 1.47 1.35L5.41 20z\"/>\n",
              "  </svg>\n",
              "      </button>\n",
              "      \n",
              "  <style>\n",
              "    .colab-df-container {\n",
              "      display:flex;\n",
              "      flex-wrap:wrap;\n",
              "      gap: 12px;\n",
              "    }\n",
              "\n",
              "    .colab-df-convert {\n",
              "      background-color: #E8F0FE;\n",
              "      border: none;\n",
              "      border-radius: 50%;\n",
              "      cursor: pointer;\n",
              "      display: none;\n",
              "      fill: #1967D2;\n",
              "      height: 32px;\n",
              "      padding: 0 0 0 0;\n",
              "      width: 32px;\n",
              "    }\n",
              "\n",
              "    .colab-df-convert:hover {\n",
              "      background-color: #E2EBFA;\n",
              "      box-shadow: 0px 1px 2px rgba(60, 64, 67, 0.3), 0px 1px 3px 1px rgba(60, 64, 67, 0.15);\n",
              "      fill: #174EA6;\n",
              "    }\n",
              "\n",
              "    [theme=dark] .colab-df-convert {\n",
              "      background-color: #3B4455;\n",
              "      fill: #D2E3FC;\n",
              "    }\n",
              "\n",
              "    [theme=dark] .colab-df-convert:hover {\n",
              "      background-color: #434B5C;\n",
              "      box-shadow: 0px 1px 3px 1px rgba(0, 0, 0, 0.15);\n",
              "      filter: drop-shadow(0px 1px 2px rgba(0, 0, 0, 0.3));\n",
              "      fill: #FFFFFF;\n",
              "    }\n",
              "  </style>\n",
              "\n",
              "      <script>\n",
              "        const buttonEl =\n",
              "          document.querySelector('#df-6a853945-63f4-4a3c-a99e-d0d1ab007a66 button.colab-df-convert');\n",
              "        buttonEl.style.display =\n",
              "          google.colab.kernel.accessAllowed ? 'block' : 'none';\n",
              "\n",
              "        async function convertToInteractive(key) {\n",
              "          const element = document.querySelector('#df-6a853945-63f4-4a3c-a99e-d0d1ab007a66');\n",
              "          const dataTable =\n",
              "            await google.colab.kernel.invokeFunction('convertToInteractive',\n",
              "                                                     [key], {});\n",
              "          if (!dataTable) return;\n",
              "\n",
              "          const docLinkHtml = 'Like what you see? Visit the ' +\n",
              "            '<a target=\"_blank\" href=https://colab.research.google.com/notebooks/data_table.ipynb>data table notebook</a>'\n",
              "            + ' to learn more about interactive tables.';\n",
              "          element.innerHTML = '';\n",
              "          dataTable['output_type'] = 'display_data';\n",
              "          await google.colab.output.renderOutput(dataTable, element);\n",
              "          const docLink = document.createElement('div');\n",
              "          docLink.innerHTML = docLinkHtml;\n",
              "          element.appendChild(docLink);\n",
              "        }\n",
              "      </script>\n",
              "    </div>\n",
              "  </div>\n",
              "  "
            ],
            "text/plain": [
              "               X1          X2          X3  ...          Y7          Y8          Y9\n",
              "count  442.000000  442.000000  442.000000  ...  442.000000  442.000000  442.000000\n",
              "mean    -0.053733    0.005090    0.058824  ...    0.113122    0.128959    0.104072\n",
              "std      0.687657    0.621882    0.708861  ...    0.317101    0.335535    0.305700\n",
              "min     -1.000000   -1.000000   -1.000000  ...    0.000000    0.000000    0.000000\n",
              "25%     -0.750000   -0.500000   -0.500000  ...    0.000000    0.000000    0.000000\n",
              "50%      0.250000    0.250000    0.250000  ...    0.000000    0.000000    0.000000\n",
              "75%      0.250000    0.250000    0.750000  ...    0.000000    0.000000    0.000000\n",
              "max      1.000000    1.000000    1.000000  ...    1.000000    1.000000    1.000000\n",
              "\n",
              "[8 rows x 18 columns]"
            ]
          },
          "metadata": {},
          "execution_count": 12
        }
      ]
    },
    {
      "cell_type": "markdown",
      "metadata": {
        "id": "2f_DkfUgKam_"
      },
      "source": [
        "## Transform to model datasets"
      ]
    },
    {
      "cell_type": "code",
      "metadata": {
        "id": "M9mZslYHKrw6"
      },
      "source": [
        "def data_to_x_y(dataset, target_column_names):\n",
        "        x = dataset.drop(target_column_names, axis=1)\n",
        "        x = np.asarray(x)\n",
        "        y = dataset[target_column_names]\n",
        "        y = np.asarray(y)\n",
        "        return x, y"
      ],
      "execution_count": 13,
      "outputs": []
    },
    {
      "cell_type": "code",
      "metadata": {
        "id": "1dAMC4KVSMi8"
      },
      "source": [
        "target_column_names = ['Y1', 'Y2', 'Y3', 'Y4', 'Y5', 'Y6', 'Y7', 'Y8', 'Y9']"
      ],
      "execution_count": 14,
      "outputs": []
    },
    {
      "cell_type": "code",
      "source": [
        "data_x, data_y = data_to_x_y(data, target_column_names)"
      ],
      "metadata": {
        "id": "dBlbUJNWuFo9"
      },
      "execution_count": 15,
      "outputs": []
    },
    {
      "cell_type": "markdown",
      "metadata": {
        "id": "XaIELDRgFD5G"
      },
      "source": [
        "# Model"
      ]
    },
    {
      "cell_type": "code",
      "metadata": {
        "id": "nmA0JYvi2nuE"
      },
      "source": [
        "class DenseBlock(layers.Layer):\n",
        "\n",
        "    def __init__(self, neurons_per_layer, activation_fn, dropout_rate=0.25, name=\"\"):\n",
        "        super(DenseBlock, self).__init__(name=name)\n",
        "\n",
        "        # init layers\n",
        "        self.dense = None\n",
        "        self.activation = None\n",
        "        self.dropout = layers.Dropout(rate=dropout_rate, name=f\"{name}_Dropout\")\n",
        "        self.use_bias = True\n",
        "\n",
        "        self.dense = layers.Dense(neurons_per_layer, activation=None, use_bias=self.use_bias, name=f\"{name}_Dense\")\n",
        "        if(activation_fn != None):\n",
        "            self.activation = layers.Activation(activation_fn, name=f\"{name}_Activation\")\n",
        "\n",
        "    def call(self, inputs):\n",
        "        x = self.dense(inputs)\n",
        "        if (self.activation != None):\n",
        "            x = self.activation(x)\n",
        "        x = self.dropout(x)\n",
        "        return x"
      ],
      "execution_count": 16,
      "outputs": []
    },
    {
      "cell_type": "code",
      "metadata": {
        "id": "zVOZ1lC3MsXC"
      },
      "source": [
        "def build_model(input_shape, num_neurons, optimizer, loss_fn, activation_fn, dropout_rate=0.25):\n",
        "\n",
        "    input = layers.Input(shape=(input_shape), name=\"Input\")\n",
        "    x = input\n",
        "    layer_cntr = 0\n",
        "\n",
        "    for i in range(0, len(num_neurons)):\n",
        "        layer_cntr += 1\n",
        "        current_activation_fn = activation_fn\n",
        "\n",
        "        # last layer\n",
        "        if(layer_cntr == len(num_neurons)):\n",
        "            current_activation_fn = tf.nn.softmax\n",
        "        x = DenseBlock(num_neurons[i], current_activation_fn, dropout_rate, name=f\"DenseBlock{layer_cntr}\")(x)\n",
        "\n",
        "    output = x\n",
        "    model = tf.keras.models.Model(input, output)\n",
        "    model.compile(\n",
        "        optimizer=optimizer,\n",
        "        loss=loss_fn,\n",
        "        metrics=['accuracy']\n",
        "    )\n",
        "\n",
        "    return model"
      ],
      "execution_count": 68,
      "outputs": []
    },
    {
      "cell_type": "markdown",
      "metadata": {
        "id": "cp-qsc3PxQJO"
      },
      "source": [
        "# Training"
      ]
    },
    {
      "cell_type": "markdown",
      "metadata": {
        "id": "bWOgypbHDKZN"
      },
      "source": [
        "## MISC: evaluate function, callbacks"
      ]
    },
    {
      "cell_type": "code",
      "metadata": {
        "id": "5058mynrEPn6"
      },
      "source": [
        "def evaluate_results(history, need_plot=True):\n",
        "    \n",
        "    acc = history.history['accuracy']\n",
        "    val_acc = history.history['val_accuracy']\n",
        "\n",
        "    loss = history.history['loss']\n",
        "    val_loss = history.history['val_loss']\n",
        "\n",
        "    epochs = range(len(acc))\n",
        "\n",
        "    if(need_plot):\n",
        "        plt.title('Training and validation accuracy')\n",
        "        plt.plot(epochs, acc, color='blue', label='train')\n",
        "        plt.plot(epochs, val_acc, color='orange', label='validation')\n",
        "        plt.legend(loc='upper left')\n",
        "        plt.figure()\n",
        "\n",
        "        plt.title('Training and validation loss')\n",
        "        plt.plot(epochs, loss, color='blue', label='train')\n",
        "        plt.plot(epochs, val_loss, color='orange', label='validation')\n",
        "        plt.legend(loc='upper left')\n",
        "        plt.figure()\n",
        "\n",
        "    best_val_acc_idx = np.argmax(val_acc)\n",
        "    best_val_loss_idx = np.argmin(val_loss)\n",
        "    print(f\"Best accuracy - train: {acc[best_val_acc_idx]}, validation: {val_acc[best_val_acc_idx]}\")\n",
        "    print(f\"Best loss - train: {loss[best_val_loss_idx]}, validation: {val_loss[best_val_loss_idx]}\")"
      ],
      "execution_count": 69,
      "outputs": []
    },
    {
      "cell_type": "code",
      "metadata": {
        "id": "b5CTqNddPSwa"
      },
      "source": [
        "def evaluate(histories):\n",
        "    avg_acc = 0.0\n",
        "    avg_val_acc = 0.0\n",
        "    avg_loss = 0.0\n",
        "    avg_val_loss = 0.0\n",
        "\n",
        "    for history in histories:\n",
        "        best_val_acc_idx = np.argmax(history.history['val_accuracy'])\n",
        "        best_val_loss_idx = np.argmin(history.history['val_loss'])\n",
        "\n",
        "        avg_acc += history.history['accuracy'][best_val_acc_idx]\n",
        "        avg_val_acc += history.history['val_accuracy'][best_val_acc_idx]\n",
        "        avg_loss += history.history['loss'][best_val_loss_idx]\n",
        "        avg_val_loss += history.history['val_loss'][best_val_loss_idx]\n",
        "\n",
        "    avg_acc /= len(histories)\n",
        "    avg_val_acc /= len(histories)\n",
        "    avg_loss /= len(histories)\n",
        "    avg_val_loss /= len(histories)\n",
        "\n",
        "    print(f\"\\nSummary:\")\n",
        "    print(f\"Avg accuracy - train: {avg_acc}, validation: {avg_val_acc}\")\n",
        "    print(f\"Avg loss - train: {avg_loss}, validation: {avg_val_loss}\")"
      ],
      "execution_count": 70,
      "outputs": []
    },
    {
      "cell_type": "markdown",
      "metadata": {
        "id": "VY8uJ1gVOAru"
      },
      "source": [
        "> Early stopping and TensorBoard callbacks."
      ]
    },
    {
      "cell_type": "code",
      "metadata": {
        "id": "l0QghpSyNb6n"
      },
      "source": [
        "# Early stopping configuration\n",
        "early_stopping_patience = 10\n",
        "early_stopping = tf.keras.callbacks.EarlyStopping(\n",
        "    monitor=\"val_loss\", \n",
        "    patience=early_stopping_patience, \n",
        "    verbose=1, \n",
        "    restore_best_weights=True)\n",
        "\n",
        "# TensorBoard configuration\n",
        "tensorboard_callback = tf.keras.callbacks.TensorBoard(\n",
        "    log_dir=\"/content/logs/\",\n",
        "    profile_batch=2,\n",
        "    histogram_freq=1,\n",
        "    embeddings_freq=0,\n",
        "    write_graph=False,\n",
        "    update_freq=\"epoch\")"
      ],
      "execution_count": 71,
      "outputs": []
    },
    {
      "cell_type": "markdown",
      "metadata": {
        "id": "VrzpucTZN9yL"
      },
      "source": [
        "> Learning rate scheduler and adjuster."
      ]
    },
    {
      "cell_type": "code",
      "metadata": {
        "id": "UcpPpL2ONyy2"
      },
      "source": [
        "# Learning rate scheduler\n",
        "n_epochs_before_lr_decrease = 300\n",
        "# Keep the initial learning rate for the first n_epochs_before_lr_decrease and decrease exponentially after that\n",
        "def lr_schedule(epoch, lr):\n",
        "    if epoch < n_epochs_before_lr_decrease:\n",
        "        return lr\n",
        "    else:\n",
        "        return lr * tf.math.exp(-0.1)\n",
        "lr_scheduler = tf.keras.callbacks.LearningRateScheduler(lr_schedule)\n",
        "\n",
        "# Reduce learning rate on plateau configuration\n",
        "on_plateau_patience = 100\n",
        "on_plateau_min_delta = 0.0001\n",
        "on_plateau_min_lr = 1e-5\n",
        "reduce_lr_on_plateau = tf.keras.callbacks.ReduceLROnPlateau(\n",
        "    monitor=\"val_loss\", \n",
        "    factor=0.2, \n",
        "    patience=on_plateau_patience, \n",
        "    verbose=1, \n",
        "    mode=\"auto\", \n",
        "    min_delta=on_plateau_min_delta, \n",
        "    cooldown=0, \n",
        "    min_lr=on_plateau_min_lr\n",
        ")"
      ],
      "execution_count": 72,
      "outputs": []
    },
    {
      "cell_type": "markdown",
      "metadata": {
        "id": "qB763Y7ZUb_8"
      },
      "source": [
        "## TensorBoard"
      ]
    },
    {
      "cell_type": "code",
      "metadata": {
        "id": "Q2PcOlyEUb06"
      },
      "source": [
        "# Load the TensorBoard notebook extension\n",
        "%load_ext tensorboard\n",
        "%tensorboard --logdir \"/content/logs/\""
      ],
      "execution_count": null,
      "outputs": []
    },
    {
      "cell_type": "markdown",
      "source": [
        "## A: Hyperparameter optimization"
      ],
      "metadata": {
        "id": "CT3x4r8g2doy"
      }
    },
    {
      "cell_type": "markdown",
      "source": [
        "### Define parameters"
      ],
      "metadata": {
        "id": "0loeOoWu2ici"
      }
    },
    {
      "cell_type": "code",
      "source": [
        "hp = kt.HyperParameters()\n",
        "\n",
        "input_shape = data_x.shape[1]\n",
        "output_shape = data_y.shape[1]\n",
        "\n",
        "# constants\n",
        "hp.Fixed(name='input_shape', value=input_shape)\n",
        "hp.Fixed(name='output_shape', value=output_shape)\n",
        "\n",
        "# variables\n",
        "hp.Choice(name='optimizer', values=[\"sgd\", \"adam\"])\n",
        "hp.Choice(name='learning_rate', values=[1e-2])\n",
        "hp.Int('num_inner_layers', 0, 2, step=1, default=0)\n",
        "hp.Int('num_inner_neurons', 10, 30, step=5, default=9)\n",
        "hp.Choice(name='activation_fn', values=[\"sigmoid\", \"relu\"])\n",
        "hp.Float(name='dropout_rate', min_value=0.0, max_value=0.25, step=None, sampling='linear', default=0.1)\n",
        "\n",
        "print(f\"Default parameters: {hp.values}\")"
      ],
      "metadata": {
        "colab": {
          "base_uri": "https://localhost:8080/"
        },
        "id": "1YSOYDNJ2c9Q",
        "outputId": "a69d15a7-00af-47a0-d547-d987da0bc25d"
      },
      "execution_count": 102,
      "outputs": [
        {
          "output_type": "stream",
          "name": "stdout",
          "text": [
            "Default parameters: {'input_shape': 9, 'output_shape': 9, 'optimizer': 'sgd', 'learning_rate': 0.01, 'first_num_neurons': 9, 'num_inner_layers': 0, 'inner_num_neurons': 9, 'last_num_neurons': 9, 'activation_fn': 'sigmoid', 'dropout_rate': 0.1}\n"
          ]
        }
      ]
    },
    {
      "cell_type": "code",
      "source": [
        "def hyperopt_model_builder(hp):\n",
        "    gc.collect()\n",
        "\n",
        "    input_shape = hp['input_shape']\n",
        "    output_shape = hp['output_shape']\n",
        "\n",
        "    optimizer = hp['optimizer']\n",
        "    learning_rate = hp['learning_rate']\n",
        "    num_inner_layers = hp['num_inner_layers']\n",
        "    num_inner_neurons = hp['num_inner_neurons']\n",
        "    activation_fn = hp['activation_fn']\n",
        "    dropout_rate = hp['dropout_rate']\n",
        "\n",
        "    num_neurons = []\n",
        "    for i in range(0, num_inner_layers):\n",
        "        num_neurons.append(num_inner_neurons)\n",
        "    num_neurons.append(output_shape)\n",
        "\n",
        "    if(optimizer == \"adam\"):\n",
        "        optimizer = tf.keras.optimizers.Adam(learning_rate=learning_rate)\n",
        "    elif(optimizer == \"sgd\"):\n",
        "        optimizer = tf.keras.optimizers.SGD(learning_rate=learning_rate)\n",
        "\n",
        "    loss_fn = tf.keras.losses.CategoricalCrossentropy()\n",
        "    model = build_model(input_shape, num_neurons, optimizer, loss_fn, activation_fn, dropout_rate)\n",
        "    return model"
      ],
      "metadata": {
        "id": "kHn46Otc3kN-"
      },
      "execution_count": 103,
      "outputs": []
    },
    {
      "cell_type": "code",
      "source": [
        "tuner = kt.tuners.Hyperband(\n",
        "    hyperopt_model_builder,\n",
        "    objective='val_loss',\n",
        "    max_epochs = 1000,\n",
        "    factor = 5,\n",
        "    hyperband_iterations = 1,\n",
        "    seed = 42,\n",
        "    hyperparameters = hp,\n",
        "    directory = \"/content/hyperopt/\",\n",
        "    project_name = f\"hyperopt\"\n",
        ")\n",
        "tuner.search_space_summary()"
      ],
      "metadata": {
        "id": "oorp86_o37n9"
      },
      "execution_count": null,
      "outputs": []
    },
    {
      "cell_type": "code",
      "source": [
        "tuner = kt.tuners.RandomSearch(\n",
        "    hyperopt_model_builder,\n",
        "    objective = 'val_loss',\n",
        "    max_trials = 200,\n",
        "    seed = 42,\n",
        "    hyperparameters = hp,\n",
        "    directory = \"/content/hyperopt/\",\n",
        "    project_name = f\"hyperopt\")\n",
        "tuner.search_space_summary()"
      ],
      "metadata": {
        "id": "5ZDhzGSK4Ain"
      },
      "execution_count": null,
      "outputs": []
    },
    {
      "cell_type": "markdown",
      "source": [
        "### Run HyperOpt"
      ],
      "metadata": {
        "id": "ZkxaEOvk4HUl"
      }
    },
    {
      "cell_type": "code",
      "source": [
        "epochs = 1000\n",
        "batch_size = 4\n",
        "\n",
        "tuner.search(\n",
        "    data_x, data_y,\n",
        "    validation_data=(data_x, data_y),\n",
        "    initial_epoch=0,\n",
        "    epochs=epochs,\n",
        "    batch_size=batch_size,\n",
        "    verbose=0,\n",
        "    callbacks=[early_stopping],\n",
        "    use_multiprocessing=True\n",
        ")"
      ],
      "metadata": {
        "id": "AuCeZ0OV4ICf"
      },
      "execution_count": null,
      "outputs": []
    },
    {
      "cell_type": "markdown",
      "source": [
        "### Best configurations"
      ],
      "metadata": {
        "id": "xkvM0nx24az3"
      }
    },
    {
      "cell_type": "code",
      "source": [
        "# Get the optimal hyperparameters\n",
        "tuner.results_summary(5)\n",
        "\n",
        "optimal_hyparams = tuner.get_best_hyperparameters(num_trials=1)[0]\n",
        "print(optimal_hyparams.values)"
      ],
      "metadata": {
        "id": "KtdaM2li4a6l"
      },
      "execution_count": null,
      "outputs": []
    },
    {
      "cell_type": "markdown",
      "metadata": {
        "id": "du_-YAv0UtTs"
      },
      "source": [
        "## B: Single training"
      ]
    },
    {
      "cell_type": "markdown",
      "source": [
        "### Trainer function"
      ],
      "metadata": {
        "id": "2oO0p8o5Al6L"
      }
    },
    {
      "cell_type": "code",
      "metadata": {
        "id": "iljLh7XuFhUt"
      },
      "source": [
        "def training(dataset_x, dataset_y, model, num_epochs, batch_size, callbacks):\n",
        "    histories = []\n",
        "\n",
        "    #Train the model\n",
        "    current_history = model.fit(\n",
        "        dataset_x, dataset_y,\n",
        "        validation_data=(dataset_x, dataset_y),\n",
        "        shuffle=True,\n",
        "        verbose=1,\n",
        "        epochs=num_epochs,\n",
        "        batch_size=batch_size,\n",
        "        callbacks=callbacks\n",
        "    )\n",
        "    evaluate_results(current_history, False)\n",
        "    histories.append(current_history)\n",
        "\n",
        "    evaluate(histories)\n",
        "    return model"
      ],
      "execution_count": 82,
      "outputs": []
    },
    {
      "cell_type": "markdown",
      "source": [
        "### Run training"
      ],
      "metadata": {
        "id": "U8pXetKZhS0i"
      }
    },
    {
      "cell_type": "code",
      "source": [
        "input_shape = data_x.shape[1]\n",
        "num_neurons = [25, 9]\n",
        "\n",
        "learning_rate = 1e-2\n",
        "optimizer = tf.keras.optimizers.Adam(learning_rate=learning_rate)\n",
        "loss_fn = tf.keras.losses.CategoricalCrossentropy()\n",
        "activation_fn = tf.nn.sigmoid\n",
        "dropout_rate = 0.0\n",
        "\n",
        "num_epochs = 10000\n",
        "batch_size = 8"
      ],
      "metadata": {
        "id": "IhSRfgUr8-FV"
      },
      "execution_count": 89,
      "outputs": []
    },
    {
      "cell_type": "code",
      "source": [
        "model = build_model(input_shape, num_neurons, optimizer, loss_fn, activation_fn, dropout_rate)"
      ],
      "metadata": {
        "id": "tgTzr0lb9G5-"
      },
      "execution_count": 90,
      "outputs": []
    },
    {
      "cell_type": "code",
      "source": [
        "model.summary()\n",
        "tf.keras.utils.plot_model(model, show_shapes=True)"
      ],
      "metadata": {
        "colab": {
          "base_uri": "https://localhost:8080/",
          "height": 572
        },
        "id": "PcQ1kwwzWZIG",
        "outputId": "077511da-3c18-4ae2-e1c2-4e93ac3832c9"
      },
      "execution_count": 91,
      "outputs": [
        {
          "output_type": "stream",
          "name": "stdout",
          "text": [
            "Model: \"model_6\"\n",
            "_________________________________________________________________\n",
            " Layer (type)                Output Shape              Param #   \n",
            "=================================================================\n",
            " Input (InputLayer)          [(None, 9)]               0         \n",
            "                                                                 \n",
            " DenseBlock1 (DenseBlock)    (None, 25)                250       \n",
            "                                                                 \n",
            " DenseBlock2 (DenseBlock)    (None, 9)                 234       \n",
            "                                                                 \n",
            "=================================================================\n",
            "Total params: 484\n",
            "Trainable params: 484\n",
            "Non-trainable params: 0\n",
            "_________________________________________________________________\n"
          ]
        },
        {
          "output_type": "execute_result",
          "data": {
            "image/png": "[encoded data removed]",
            "text/plain": [
              "<IPython.core.display.Image object>"
            ]
          },
          "metadata": {},
          "execution_count": 91
        }
      ]
    },
    {
      "cell_type": "code",
      "metadata": {
        "colab": {
          "base_uri": "https://localhost:8080/"
        },
        "id": "KBcLWVXxNBQN",
        "outputId": "d4a0127c-3de1-47c6-b36e-d295b9bc7160"
      },
      "source": [
        "model = training(data_x, data_y, model, num_epochs, batch_size, [early_stopping])"
      ],
      "execution_count": 92,
      "outputs": [
        {
          "output_type": "stream",
          "name": "stdout",
          "text": [
            "Restoring model weights from the end of the best epoch: 480.\n",
            "Epoch 00490: early stopping\n",
            "Best accuracy - train: 0.9819004535675049, validation: 0.9909502267837524\n",
            "Best loss - train: 0.0630735531449318, validation: 0.05070144310593605\n",
            "\n",
            "Summary:\n",
            "Avg accuracy - train: 0.9819004535675049, validation: 0.9909502267837524\n",
            "Avg loss - train: 0.0630735531449318, validation: 0.05070144310593605\n"
          ]
        }
      ]
    },
    {
      "cell_type": "code",
      "source": [
        "model.save(f\"/content/model\")"
      ],
      "metadata": {
        "colab": {
          "base_uri": "https://localhost:8080/"
        },
        "id": "4v9Qqjz4k2sU",
        "outputId": "967d87dc-242c-40dd-80fc-f9134933eb1c"
      },
      "execution_count": 93,
      "outputs": [
        {
          "output_type": "stream",
          "name": "stderr",
          "text": [
            "WARNING:absl:Function `_wrapped_model` contains input name(s) Input with unsupported characters which will be renamed to input in the SavedModel.\n",
            "WARNING:absl:Found untraced functions such as DenseBlock1_Dropout_layer_call_fn, DenseBlock1_Dropout_layer_call_and_return_conditional_losses, DenseBlock1_Dense_layer_call_fn, DenseBlock1_Dense_layer_call_and_return_conditional_losses, DenseBlock1_Activation_layer_call_fn while saving (showing 5 of 30). These functions will not be directly callable after loading.\n"
          ]
        },
        {
          "output_type": "stream",
          "name": "stdout",
          "text": [
            "INFO:tensorflow:Assets written to: /content/model/assets\n"
          ]
        },
        {
          "output_type": "stream",
          "name": "stderr",
          "text": [
            "INFO:tensorflow:Assets written to: /content/model/assets\n"
          ]
        }
      ]
    },
    {
      "cell_type": "markdown",
      "metadata": {
        "id": "z_iqYJ0xxYhI"
      },
      "source": [
        "# TFLite"
      ]
    },
    {
      "cell_type": "code",
      "metadata": {
        "id": "qazWrUTRFB6K",
        "colab": {
          "base_uri": "https://localhost:8080/"
        },
        "outputId": "d0fc4677-1494-495e-e304-9e79da759238"
      },
      "source": [
        "converter = tf.lite.TFLiteConverter.from_saved_model(\"/content/model\")\n",
        "converter.experimental_new_converter = True\n",
        "converter.experimental_new_quantizer = True\n",
        "\n",
        "#Dynamic integer quantization\n",
        "converter.optimizations = [tf.lite.Optimize.DEFAULT]\n",
        "\n",
        "#Full integer quantization\n",
        "#converter.target_spec.supported_ops = [tf.lite.OpsSet.TFLITE_BUILTINS_INT8]\n",
        "#converter.inference_input_type = tf.int8\n",
        "#converter.inference_output_type = tf.int8\n",
        "#converter.representative_dataset = representative_dataset\n",
        "\n",
        "tflite_model = converter.convert()\n",
        "target_file_dir = f\"/content/tflite/\"\n",
        "target_file_path = f\"{target_file_dir}model.tflite\"\n",
        "\n",
        "if not os.path.exists(target_file_dir):\n",
        "    os.makedirs(target_file_dir)\n",
        "\n",
        "# Save the tflite model\n",
        "with open(target_file_path, 'wb') as f:\n",
        "  f.write(tflite_model)\n",
        "  print(f\"Model saved successfully to {target_file_path}\")"
      ],
      "execution_count": 98,
      "outputs": [
        {
          "output_type": "stream",
          "name": "stderr",
          "text": [
            "WARNING:absl:Buffer deduplication procedure will be skipped when flatbuffer library is not properly loaded\n"
          ]
        },
        {
          "output_type": "stream",
          "name": "stdout",
          "text": [
            "Model saved successfully to /content/tflite/model.tflite\n"
          ]
        }
      ]
    }
  ]
}